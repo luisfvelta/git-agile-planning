{
  "nbformat": 4,
  "nbformat_minor": 0,
  "metadata": {
    "colab": {
      "provenance": [],
      "authorship_tag": "ABX9TyPozZSL/xmOVEXb3yH5tX7T",
      "include_colab_link": true
    },
    "kernelspec": {
      "name": "python3",
      "display_name": "Python 3"
    },
    "language_info": {
      "name": "python"
    }
  },
  "cells": [
    {
      "cell_type": "markdown",
      "metadata": {
        "id": "view-in-github",
        "colab_type": "text"
      },
      "source": [
        "<a href=\"https://colab.research.google.com/github/luisfvelta/git-agile-planning/blob/main/dj4e01.ipynb\" target=\"_parent\"><img src=\"https://colab.research.google.com/assets/colab-badge.svg\" alt=\"Open In Colab\"/></a>"
      ]
    },
    {
      "cell_type": "markdown",
      "source": [
        "# Single browser"
      ],
      "metadata": {
        "id": "lnzr7WiIMg6W"
      }
    },
    {
      "cell_type": "code",
      "execution_count": 1,
      "metadata": {
        "id": "sAI4TOORI7mP"
      },
      "outputs": [],
      "source": [
        "import socket"
      ]
    },
    {
      "cell_type": "code",
      "source": [
        "my_socket = socket.socket(socket.AF_INET, socket.SOCK_STREAM)"
      ],
      "metadata": {
        "id": "VYh_chSqKzQE"
      },
      "execution_count": 3,
      "outputs": []
    },
    {
      "cell_type": "code",
      "source": [
        "my_socket.connect(('data.pr4e.org', 80))"
      ],
      "metadata": {
        "id": "rBT5lw0HLKoe"
      },
      "execution_count": 5,
      "outputs": []
    },
    {
      "cell_type": "code",
      "source": [
        "cmd = 'GET http://data.pr4e.org/page1.htm HTTP/1.0\\r\\n\\r\\n'.encode()"
      ],
      "metadata": {
        "id": "b7YEe_NfLLYP"
      },
      "execution_count": 6,
      "outputs": []
    },
    {
      "cell_type": "code",
      "source": [
        "my_socket.send(cmd)"
      ],
      "metadata": {
        "colab": {
          "base_uri": "https://localhost:8080/"
        },
        "id": "P0r7g_lYMAib",
        "outputId": "235b1536-b58d-413a-e9ad-abbf767a4659"
      },
      "execution_count": 7,
      "outputs": [
        {
          "output_type": "execute_result",
          "data": {
            "text/plain": [
              "47"
            ]
          },
          "metadata": {},
          "execution_count": 7
        }
      ]
    },
    {
      "cell_type": "code",
      "source": [
        "while True:\n",
        "  data = my_socket.recv(512)\n",
        "  if len(data) < 1:\n",
        "    break\n",
        "  print(data.decode(), end='')\n",
        "\n",
        "my_socket.close()"
      ],
      "metadata": {
        "colab": {
          "base_uri": "https://localhost:8080/"
        },
        "id": "DBWDbOU9MGNG",
        "outputId": "365c7460-9000-45e2-e188-a1dc321086eb"
      },
      "execution_count": 8,
      "outputs": [
        {
          "output_type": "stream",
          "name": "stdout",
          "text": [
            "HTTP/1.1 200 OK\r\n",
            "Date: Tue, 03 Oct 2023 20:17:30 GMT\r\n",
            "Server: Apache/2.4.18 (Ubuntu)\r\n",
            "Last-Modified: Mon, 15 May 2017 11:11:47 GMT\r\n",
            "ETag: \"80-54f8e1f004857\"\r\n",
            "Accept-Ranges: bytes\r\n",
            "Content-Length: 128\r\n",
            "Cache-Control: max-age=0, no-cache, no-store, must-revalidate\r\n",
            "Pragma: no-cache\r\n",
            "Expires: Wed, 11 Jan 1984 05:00:00 GMT\r\n",
            "Connection: close\r\n",
            "Content-Type: text/html\r\n",
            "\r\n",
            "<h1>The First Page</h1>\n",
            "<p>\n",
            "If you like, you can switch to the \n",
            "<a href=\"http://data.pr4e.org/page2.htm\">\n",
            "Second Page</a>.\n",
            "</p>\n"
          ]
        }
      ]
    },
    {
      "cell_type": "markdown",
      "source": [],
      "metadata": {
        "id": "MyJAaNjRMfQy"
      }
    }
  ]
}